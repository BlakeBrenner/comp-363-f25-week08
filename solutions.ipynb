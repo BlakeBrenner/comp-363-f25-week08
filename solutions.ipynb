{
 "cells": [
  {
   "cell_type": "markdown",
   "id": "affe53ce",
   "metadata": {},
   "source": [
    "# Week 06 Assignment: FF\n"
   ]
  },
  {
   "cell_type": "markdown",
   "id": "69526c0f",
   "metadata": {},
   "source": [
    "## Your assignment"
   ]
  },
  {
   "cell_type": "markdown",
   "id": "5a52687e",
   "metadata": {},
   "source": [
    "# Coding requirements\n",
    "\n",
    "- You may _not_ import modules in your code without explicit permission from Leo. Basically this means no `import` or `include` or similar statements in your programs.\n",
    "\n",
    "- You may _not_ use statements like `break` to end loops or `continue` and `pass` to move through branching.\n",
    "\n",
    "- When possible, methods that return values should have only one return statement. This is no longer a strict requirement (if you took COMP 271/272 with me, you know what I am talking about). In general, there is no good reason for a method with 20-25 lines of code at most to have multiple return statements.\n",
    "\n",
    "- Your code should be neat and well documented. If you are coding with Visual Studio Code, there are extensions that can do a great job formatting your program. For Python, consider installing the **Black Formatter** by Microsoft.\n",
    "\n",
    "- If you code in Python, learn to use type hints. They are annoying but useful.\n",
    "\n",
    "- Use a standard style guide for your code. I like Google's style guides for [Java](https://google.github.io/styleguide/javaguide.html) and [Python](https://google.github.io/styleguide/pyguide.html).\n",
    "\n",
    "- If you are using Jupyter notebooks, spend some time exploring MarkDown syntax for documentation and LaTeX for mathmetical typesetting. Good skills to have.\n",
    "\n",
    "# Finals week policy\n",
    "\n",
    "There is no final exam for the course. There will be a final assignemnt that will be published the week before finals and will be due the week of finals. Additionally, 8 students in the course will be invited randomly to a brief meeting with the instructor during the course's final exam slot. If you are selected for a brief meeting, we'll spend about 15 minutes during the final exam slot to review your work. This interview will cover coding practices based on your past assignments. It is meant as a checkpoint to ensure that you have internalized the work you submitted.\n"
   ]
  }
 ],
 "metadata": {
  "kernelspec": {
   "display_name": "Python 3",
   "language": "python",
   "name": "python3"
  },
  "language_info": {
   "codemirror_mode": {
    "name": "ipython",
    "version": 3
   },
   "file_extension": ".py",
   "mimetype": "text/x-python",
   "name": "python",
   "nbconvert_exporter": "python",
   "pygments_lexer": "ipython3",
   "version": "3.12.1"
  }
 },
 "nbformat": 4,
 "nbformat_minor": 5
}
